{
 "cells": [
  {
   "cell_type": "markdown",
   "metadata": {},
   "source": [
    "# NLP: Text Classification Using Transfer Learning with BERT\n",
    "\n",
    "In this notebook, we explore an effective approach to Natural Language Processing (NLP) using transfer learning with Google’s BERT (Bidirectional Encoder Representations from Transformers) model. Transfer learning allows us to leverage the power of pre-trained models, which have already learned rich contextual embeddings from vast amounts of text data, including books, articles, and websites. By loading BERT with its pre-trained weights, we benefit from the knowledge it has acquired, enabling us to tackle specific classification problems more effectively.\n",
    "\n",
    "We will fine-tune BERT on our target dataset for sentence classification. This process involves adapting the model to our specific task, allowing it to utilize the powerful representations it learned during pre-training and refine them based on our classification data. Through this method, we can achieve improved performance on NLP tasks with less data and time than training a model from scratch.\n",
    "\n",
    "\n",
    "## Hugging Face Transformers\n",
    "\n",
    "The BERT model is sourced from Hugging Face's `transformers` package, an open-source provider of advanced natural language processing (NLP) technologies. The `transformers` library includes a wide range of pre-trained models suitable for diverse NLP tasks.\n",
    "\n",
    "In this notebook, we will use the TensorFlow 2 interface from Hugging Face’s `transformers` package. This library provides various pre-trained transformer models (e.g., PyTorch `BertModel` or TensorFlow `TFBertModel`) and task-specific variants (e.g., PyTorch `BertForSequenceClassification` or TensorFlow `TFBertForSequenceClassification`) designed for classification and other specialized tasks.\n",
    "\n",
    "## Dataset\n",
    "\n",
    "We utilize a corpus of emails to classify them into one of two categories: spam and non-spam (ham). The dataset comprises labeled emails, with ham represented by label 0 and spam by label 1.\n",
    "\n",
    "You can access the dataset here: [Spam Filter Dataset on Kaggle](https://www.kaggle.com/karthickveerakumar/spam-filter).\n",
    "\n",
    "\n",
    "Install the following libraries:\n",
    "- pip install tensorflow-addons\n",
    "- pip install transformers\n"
   ]
  },
  {
   "cell_type": "code",
   "execution_count": 1,
   "metadata": {},
   "outputs": [
    {
     "name": "stderr",
     "output_type": "stream",
     "text": [
      "/var/folders/zd/2ty0m0yn1jzc2zjgq1154kkxxmbbr2/T/ipykernel_17613/3575115893.py:2: DeprecationWarning: \n",
      "Pyarrow will become a required dependency of pandas in the next major release of pandas (pandas 3.0),\n",
      "(to allow more performant data types, such as the Arrow string type, and better interoperability with other libraries)\n",
      "but was not found to be installed on your system.\n",
      "If this would cause problems for you,\n",
      "please provide us feedback at https://github.com/pandas-dev/pandas/issues/54466\n",
      "        \n",
      "  import pandas as pd\n",
      "/Users/mhasan2/anaconda3/envs/ml_env/lib/python3.11/site-packages/tensorflow_addons/utils/tfa_eol_msg.py:23: UserWarning: \n",
      "\n",
      "TensorFlow Addons (TFA) has ended development and introduction of new features.\n",
      "TFA has entered a minimal maintenance and release mode until a planned end of life in May 2024.\n",
      "Please modify downstream libraries to take dependencies from other repositories in our TensorFlow community (e.g. Keras, Keras-CV, and Keras-NLP). \n",
      "\n",
      "For more information see: https://github.com/tensorflow/addons/issues/2807 \n",
      "\n",
      "  warnings.warn(\n",
      "/Users/mhasan2/anaconda3/envs/ml_env/lib/python3.11/site-packages/tensorflow_addons/utils/ensure_tf_install.py:53: UserWarning: Tensorflow Addons supports using Python ops for all Tensorflow versions above or equal to 2.13.0 and strictly below 2.16.0 (nightly versions are not supported). \n",
      " The versions of TensorFlow you are currently using is 2.12.0 and is not supported. \n",
      "Some things might work, some things might not.\n",
      "If you were to encounter a bug, do not file an issue.\n",
      "If you want to make sure you're using a tested and supported configuration, either change the TensorFlow version or the TensorFlow Addons's version. \n",
      "You can find the compatibility matrix in TensorFlow Addon's readme:\n",
      "https://github.com/tensorflow/addons\n",
      "  warnings.warn(\n"
     ]
    }
   ],
   "source": [
    "import numpy as np\n",
    "import pandas as pd\n",
    "import matplotlib.pyplot as plt\n",
    "import random\n",
    "\n",
    "from sklearn.model_selection import train_test_split\n",
    "from sklearn.metrics import confusion_matrix, precision_score, recall_score, f1_score, classification_report\n",
    "from sklearn.metrics import auc\n",
    "\n",
    "import tensorflow as tf\n",
    "import tensorflow_addons as tfa\n",
    "\n",
    "import transformers\n",
    "from transformers import BertTokenizer, TFBertModel"
   ]
  },
  {
   "cell_type": "code",
   "execution_count": 2,
   "metadata": {},
   "outputs": [
    {
     "name": "stdout",
     "output_type": "stream",
     "text": [
      "TensorFlow Version:  2.12.0\n",
      "Transformers Version:  4.46.0\n"
     ]
    }
   ],
   "source": [
    "print(\"TensorFlow Version: \", tf.__version__)\n",
    "print(\"Transformers Version: \", transformers.__version__)"
   ]
  },
  {
   "cell_type": "markdown",
   "metadata": {},
   "source": [
    "## Load Data and Analyze\n",
    "\n",
    "Load data from the CSV file as a Pandas DataFrame object."
   ]
  },
  {
   "cell_type": "code",
   "execution_count": 3,
   "metadata": {},
   "outputs": [
    {
     "name": "stdout",
     "output_type": "stream",
     "text": [
      "                                                text  spam\n",
      "0  Subject: naturally irresistible your corporate...     1\n",
      "1  Subject: the stock trading gunslinger  fanny i...     1\n",
      "2  Subject: unbelievable new homes made easy  im ...     1\n",
      "3  Subject: 4 color printing special  request add...     1\n",
      "4  Subject: do not have money , get software cds ...     1\n",
      "\n",
      "Dataset info:\n",
      "<class 'pandas.core.frame.DataFrame'>\n",
      "RangeIndex: 5728 entries, 0 to 5727\n",
      "Data columns (total 2 columns):\n",
      " #   Column  Non-Null Count  Dtype \n",
      "---  ------  --------------  ----- \n",
      " 0   text    5728 non-null   object\n",
      " 1   spam    5728 non-null   int64 \n",
      "dtypes: int64(1), object(1)\n",
      "memory usage: 89.6+ KB\n",
      "None\n",
      "\n",
      "Samples have null values:  False\n",
      "\n",
      "Dimension of the data:  (5728, 2)\n",
      "\n",
      "No. of Rows: 5728\n",
      "No. of Columns: 2\n",
      "\n",
      "Class Distribution\n"
     ]
    },
    {
     "data": {
      "text/html": [
       "<div>\n",
       "<style scoped>\n",
       "    .dataframe tbody tr th:only-of-type {\n",
       "        vertical-align: middle;\n",
       "    }\n",
       "\n",
       "    .dataframe tbody tr th {\n",
       "        vertical-align: top;\n",
       "    }\n",
       "\n",
       "    .dataframe thead th {\n",
       "        text-align: right;\n",
       "    }\n",
       "</style>\n",
       "<table border=\"1\" class=\"dataframe\">\n",
       "  <thead>\n",
       "    <tr style=\"text-align: right;\">\n",
       "      <th></th>\n",
       "      <th>text</th>\n",
       "    </tr>\n",
       "    <tr>\n",
       "      <th>spam</th>\n",
       "      <th></th>\n",
       "    </tr>\n",
       "  </thead>\n",
       "  <tbody>\n",
       "    <tr>\n",
       "      <th>0</th>\n",
       "      <td>4360</td>\n",
       "    </tr>\n",
       "    <tr>\n",
       "      <th>1</th>\n",
       "      <td>1368</td>\n",
       "    </tr>\n",
       "  </tbody>\n",
       "</table>\n",
       "</div>"
      ],
      "text/plain": [
       "      text\n",
       "spam      \n",
       "0     4360\n",
       "1     1368"
      ]
     },
     "execution_count": 3,
     "metadata": {},
     "output_type": "execute_result"
    }
   ],
   "source": [
    "df = pd.read_csv('/Users/mhasan2/Library/CloudStorage/OneDrive-UniversityofNebraska-Lincoln/Datasets/emails.csv')\n",
    "\n",
    "# Display the dataset and relevant info\n",
    "print(df.head())\n",
    "print(\"\\nDataset info:\")\n",
    "print(df.info())\n",
    "\n",
    "\n",
    "# Check if there are any null values\n",
    "has_null = df.isna().values.any()\n",
    "print(\"\\nSamples have null values: \", has_null)\n",
    "\n",
    "\n",
    "\n",
    "# ==================================================\n",
    "\n",
    "'''\n",
    "This dataset does not contain any missing values. \n",
    "However, if you are working with a dataset that does have missing values, \n",
    "please uncomment the following code and execute it.\n",
    "'''\n",
    "\n",
    "\n",
    "# # Drop the null values\n",
    "# if(has_null):\n",
    "#     df = df[df['content'].notna()]\n",
    "\n",
    "# # Reset the index after dropping rows\n",
    "# df.reset_index(drop=True, inplace=True)\n",
    "\n",
    "# # Make sure to confirm there are no null values left\n",
    "# print(\"\\nSamples have null values after drop: \", df.isna().values.any())\n",
    "\n",
    "\n",
    "# ==================================================\n",
    "\n",
    "\n",
    "\n",
    "print(\"\\nDimension of the data: \", df.shape)\n",
    "\n",
    "no_of_rows = df.shape[0]\n",
    "no_of_columns = df.shape[1]\n",
    "\n",
    "print(\"\\nNo. of Rows: %d\" % no_of_rows)\n",
    "print(\"No. of Columns: %d\" % no_of_columns)\n",
    "\n",
    "print(\"\\nClass Distribution\")\n",
    "df.groupby('spam').count()"
   ]
  },
  {
   "cell_type": "markdown",
   "metadata": {},
   "source": [
    "## Create Separate Arrays for the Features (Sentences) and Labels"
   ]
  },
  {
   "cell_type": "code",
   "execution_count": 4,
   "metadata": {},
   "outputs": [
    {
     "name": "stdout",
     "output_type": "stream",
     "text": [
      "Data Matrix (Sentences) Shape:  (5728,)\n",
      "Label array (Labels) Shape:  (5728,)\n",
      "\n",
      "Data Matrix (Sentences) Type:  object\n",
      "Label array (Labels) Type:  int64\n",
      "\n",
      "A random email:\n",
      "\n",
      "Subject: naturally irresistible your corporate identity  lt is really hard to recollect a company : the  market is full of suqgestions and the information isoverwhelminq ; but a good  catchy logo , stylish statlonery and outstanding website  will make the task much easier .  we do not promise that havinq ordered a iogo your  company will automaticaily become a world ieader : it isguite ciear that  without good products , effective business organization and practicable aim it  will be hotat nowadays market ; but we do promise that your marketing efforts  will become much more effective . here is the list of clear  benefits : creativeness : hand - made , original logos , specially done  to reflect your distinctive company image . convenience : logo and stationery  are provided in all formats ; easy - to - use content management system letsyou  change your website content and even its structure . promptness : you  will see logo drafts within three business days . affordability : your  marketing break - through shouldn ' t make gaps in your budget . 100 % satisfaction  guaranteed : we provide unlimited amount of changes with no extra fees for you to  be surethat you will love the result of this collaboration . have a look at our  portfolio _ _ _ _ _ _ _ _ _ _ _ _ _ _ _ _ _ _ _ _ _ _ _ _ _ _ _ _ _ _ _ _ _ _ _ _ _ _ _ _ _ _ _ _ _ _ _ _ _ _ _ _ not interested . . . _ _ _ _ _ _ _ _ _ _ _ _ _ _ _ _ _ _ _ _ _ _ _ _ _ _ _ _ _ _ _ _ _ _ _ _ _ _ _ _ _ _ _ _ _ _ _ _ _ _ _ _\n"
     ]
    }
   ],
   "source": [
    "sentences_all = df[\"text\"] # DataFrame containing the target \n",
    "labels_all = df['spam'] # DataFrame containing the features excluding the target\n",
    "\n",
    "# Convert the DataFrame objects into NumPy arrays using the NumPy asarray() method\n",
    "sentences_all = np.asarray(sentences_all) # Data Matrix containing all features excluding the target\n",
    "labels_all = np.asarray(labels_all) # 1D target array\n",
    "\n",
    "print(\"Data Matrix (Sentences) Shape: \", sentences_all.shape)\n",
    "print(\"Label array (Labels) Shape: \", labels_all.shape)\n",
    "\n",
    "print(\"\\nData Matrix (Sentences) Type: \", sentences_all.dtype)\n",
    "print(\"Label array (Labels) Type: \", labels_all.dtype)\n",
    "\n",
    "# Read a random \"email\" from the data matrix\n",
    "print(\"\\nA random email:\\n\")\n",
    "print(sentences_all[0])"
   ]
  },
  {
   "cell_type": "markdown",
   "metadata": {},
   "source": [
    "## Create Train, Validation, and Test Datasets"
   ]
  },
  {
   "cell_type": "code",
   "execution_count": 5,
   "metadata": {},
   "outputs": [
    {
     "name": "stdout",
     "output_type": "stream",
     "text": [
      "Sentences (train) shape:  (3665,)\n",
      "Sentences (val) shape:  (1146,)\n",
      "Sentences (test) shape:  (917,)\n",
      "\n",
      "Labels (train) shape:  (3665,)\n",
      "Labels (val) shape:  (1146,)\n",
      "Labels (test) shape:  (917,)\n"
     ]
    }
   ],
   "source": [
    "sentences_train_all, sentences_val, labels_train_all, labels_val = train_test_split(sentences_all, \n",
    "                                                    labels_all, \n",
    "                                                    test_size=0.2, \n",
    "                                                    random_state=42)\n",
    "\n",
    "sentences_train, sentences_test, labels_train, labels_test = train_test_split(sentences_train_all, \n",
    "                                                    labels_train_all, \n",
    "                                                    test_size=0.2, \n",
    "                                                    random_state=42)\n",
    "\n",
    "print(\"Sentences (train) shape: \", sentences_train.shape)\n",
    "print(\"Sentences (val) shape: \", sentences_val.shape)\n",
    "print(\"Sentences (test) shape: \", sentences_test.shape)\n",
    "\n",
    "\n",
    "print(\"\\nLabels (train) shape: \", labels_train.shape)\n",
    "print(\"Labels (val) shape: \", labels_val.shape)\n",
    "print(\"Labels (test) shape: \", labels_test.shape)"
   ]
  },
  {
   "cell_type": "markdown",
   "metadata": {},
   "source": [
    "## Token Length Analysis: Statistics and Visualization of Sentence Token Counts in Training Data\n",
    "\n",
    "To analyze token counts in our training data, we will use BERT’s tokenizer to determine the length of each tokenized sentence. \n",
    "\n",
    "First, we instantiate the tokenizer, then for each sentence, we tokenize it (including special `[CLS]` and `[SEP]` tokens) and store its token length in a list for further analysis.\n",
    "\n"
   ]
  },
  {
   "cell_type": "code",
   "execution_count": 6,
   "metadata": {},
   "outputs": [
    {
     "name": "stderr",
     "output_type": "stream",
     "text": [
      "Token indices sequence length is longer than the specified maximum sequence length for this model (594 > 512). Running this sequence through the model will result in indexing errors\n"
     ]
    },
    {
     "name": "stdout",
     "output_type": "stream",
     "text": [
      "\n",
      "\n",
      "Max sentence length: 9257\n",
      "Mean sentence length: 366.7443383356071\n",
      "Median sentence length: 238.0\n",
      "\n",
      "\n",
      "CPU times: user 5.15 s, sys: 36.1 ms, total: 5.18 s\n",
      "Wall time: 5.51 s\n"
     ]
    }
   ],
   "source": [
    "%%time\n",
    "\n",
    "# Instantiate the BERT tokenizer using the 'bert-base-uncased' model, which lowercase all input text \n",
    "#    to ensure uniformity and improve the model's handling of case-insensitive tasks.\n",
    "tokenizer_count = BertTokenizer.from_pretrained('bert-base-uncased', do_lower_case=True)\n",
    "\n",
    "# List to store the length of tokens for each sentence\n",
    "token_lengths = []\n",
    "\n",
    "# For each sentence in the training data...\n",
    "for sent in sentences_train:\n",
    "    # Tokenize the text and add `[CLS]` and `[SEP]` tokens\n",
    "    input_ids = tokenizer_count.encode(sent, add_special_tokens=True)\n",
    "    #input_ids = tokenizer_count.encode(sent, add_special_tokens=True, max_length=512, truncation=True)\n",
    "    # Append the length of the tokenized sentence\n",
    "    token_lengths.append(len(input_ids))\n",
    "\n",
    "\n",
    "# Calculate statistics\n",
    "max_len = max(token_lengths)\n",
    "mean_len = np.mean(token_lengths)\n",
    "median_len = np.median(token_lengths)\n",
    "\n",
    "print(\"\\n\")\n",
    "print(f'Max sentence length: {max_len}')\n",
    "print(f'Mean sentence length: {mean_len}')\n",
    "print(f'Median sentence length: {median_len}')\n",
    "print(\"\\n\")"
   ]
  },
  {
   "cell_type": "markdown",
   "metadata": {},
   "source": [
    "## Plot the Distribution of Token Counts"
   ]
  },
  {
   "cell_type": "code",
   "execution_count": 7,
   "metadata": {},
   "outputs": [
    {
     "data": {
      "image/png": "[encoded data removed]",
      "text/plain": [
       "<Figure size 1000x600 with 1 Axes>"
      ]
     },
     "metadata": {},
     "output_type": "display_data"
    }
   ],
   "source": [
    "plt.figure(figsize=(10, 6))\n",
    "plt.hist(token_lengths, bins=30, color='skyblue', edgecolor='black')\n",
    "plt.axvline(mean_len, color='red', linestyle='dashed', linewidth=1, label=f'Mean: {mean_len:.2f}')\n",
    "plt.axvline(median_len, color='green', linestyle='dashed', linewidth=1, label=f'Median: {median_len:.2f}')\n",
    "plt.xlabel('Token Count')\n",
    "plt.ylabel('Frequency')\n",
    "plt.title('Distribution of Token Counts in Training Data')\n",
    "plt.legend()\n",
    "plt.show()"
   ]
  },
  {
   "cell_type": "markdown",
   "metadata": {},
   "source": [
    "## Plot Each Sample’s Token Count"
   ]
  },
  {
   "cell_type": "code",
   "execution_count": 8,
   "metadata": {},
   "outputs": [
    {
     "data": {
      "image/png": "[encoded data removed]",
      "text/plain": [
       "<Figure size 1400x600 with 1 Axes>"
      ]
     },
     "metadata": {},
     "output_type": "display_data"
    }
   ],
   "source": [
    "plt.figure(figsize=(14, 6))\n",
    "plt.plot(range(len(token_lengths)), token_lengths, marker='o', linestyle='-', color='maroon')\n",
    "plt.xlabel('Sample Index')\n",
    "plt.ylabel('Token Count')\n",
    "plt.title('Token Counts per Sample in Training Data')\n",
    "plt.show()"
   ]
  },
  {
   "cell_type": "markdown",
   "metadata": {},
   "source": [
    "## Selecting the Maximum Token Length for BERT Training Based on Median Token Count\n",
    "\n",
    "We will use the **median token count** as the maximum token length for our BERT-based training, as it represents the central tendency of our data without being skewed by outliers. This choice ensures efficient memory usage and minimizes truncation of the majority of sentences."
   ]
  },
  {
   "cell_type": "markdown",
   "metadata": {},
   "source": [
    "## Tokenization\n",
    "\n",
    "Before fine-tuning the BERT model with the data, the text (sentences) must be tokenized, and tokens must be mapped to their respective indices in the tokenizer's vocabulary. For this purpose, we will use the BERT tokenizer.\n",
    "\n",
    "- **Tokenization Process**:\n",
    "   - First, we instantiate a tokenizer object with the `from_pretrained` method of the `BertTokenizer` class, which requires a pre-trained model name as an argument:\n",
    "     \n",
    "         tokenizer = BertTokenizer.from_pretrained('bert-base-uncased', do_lower_case=True)\n",
    "     \n",
    "     A full list of pre-trained models is available here: [Pretrained Models](https://huggingface.co/transformers/pretrained_models.html).\n",
    "\n",
    "   - Next, we apply the tokenization method, which not only tokenizes each sentence but also performs the following steps:\n",
    "     - **Adds Special Tokens**: Adds special `[CLS]` and `[SEP]` tokens to mark the beginning and end of each sentence.\n",
    "     - **Pads and Truncates**: Pads and/or truncates sentences to a specified maximum length. For this purpose, we will use the median token count across the dataset as the maximum length to ensure efficient memory usage and model performance.\n",
    "     - **Applies Attention Mask**: Distinguishes between real and padding tokens with an attention mask.\n",
    "\n",
    "## Key Tokenization Methods\n",
    "\n",
    "The base classes `PreTrainedTokenizer` and `PreTrainedTokenizerFast` in the Hugging Face library implement common methods for encoding text for model inputs. See further details on these methods [here](https://huggingface.co/transformers/main_classes/tokenizer.html).\n",
    "\n",
    "The primary methods include:\n",
    "\n",
    "- **__call__**: The main method for tokenizing and preparing one or more sequences or pairs of sequences for the model.\n",
    "\n",
    "- **encode**: Converts a string into a sequence of integer IDs based on the tokenizer's vocabulary.\n",
    "\n",
    "- **encode_plus**: Tokenizes and prepares a single sequence or a sequence pair, returning additional information, including an attention mask and information on any overflow tokens if a maximum length is specified. **Note**: `encode_plus` is now deprecated, and `__call__` should be used instead.\n",
    "\n",
    "For more details on tokenization utilities, visit [Tokenization Utilities](https://huggingface.co/transformers/internal/tokenization_utils.html)."
   ]
  },
  {
   "cell_type": "code",
   "execution_count": 9,
   "metadata": {},
   "outputs": [],
   "source": [
    "# Function for tokenization\n",
    "def prepare_input(model_tokenizer, sentences, seq_len, model_name):\n",
    "    \n",
    "    # Load the tokenizer model using the specified model name\n",
    "    tokenizer = model_tokenizer.from_pretrained(model_name)\n",
    "\n",
    "    # Tokenize the list of sentences\n",
    "    encodings = tokenizer(sentences.tolist(),  # Convert sentences to a list if not already\n",
    "                          add_special_tokens=True,  # Add special tokens like '[CLS]' for classification and '[SEP]' for separation\n",
    "                          truncation=True,  # Enable truncation to ensure sequences do not exceed max length\n",
    "                          padding=\"max_length\",  # Pad sequences to the maximum length specified\n",
    "                          max_length=seq_len,  # Set the maximum length of the sequences\n",
    "                          # return_token_type_ids=True,  # Optional: Distinguish between two sentences in a pair\n",
    "                          return_attention_mask=True,  # Create attention masks to indicate which tokens are padding\n",
    "                          return_tensors='tf',  # Return the output as TensorFlow tensors\n",
    "                         )\n",
    "    \n",
    "    # Create a list containing the input IDs and attention masks as NumPy arrays\n",
    "    input = [np.array(encodings[\"input_ids\"]), np.array(encodings[\"attention_mask\"])]\n",
    "    \n",
    "    # Return the input list\n",
    "    return input\n"
   ]
  },
  {
   "cell_type": "code",
   "execution_count": 10,
   "metadata": {},
   "outputs": [
    {
     "name": "stdout",
     "output_type": "stream",
     "text": [
      "Median sentence length: 238\n",
      "\n",
      "Train data (tokenized) shape:  3665\n",
      "Val data (tokenized) shape:  1146\n",
      "Test data (tokenized) shape:  917\n"
     ]
    }
   ],
   "source": [
    "# Use the median token count as the maximum length to ensure efficient memory usage and model performance.\n",
    "\n",
    "# Convert to integer\n",
    "median_len = np.int32(median_len) \n",
    "\n",
    "\n",
    "print(f'Median sentence length: {median_len}')\n",
    "MAX_SEQ_LEN = median_len\n",
    "MODEL_NAME = 'bert-base-uncased'\n",
    "\n",
    "model_tokenizer = BertTokenizer\n",
    "\n",
    "# Prepare the input sequences via tokenization and formatting\n",
    "X_train = prepare_input(model_tokenizer, sentences_train, MAX_SEQ_LEN, MODEL_NAME)\n",
    "X_val = prepare_input(model_tokenizer, sentences_val, MAX_SEQ_LEN, MODEL_NAME)\n",
    "X_test = prepare_input(model_tokenizer, sentences_test, MAX_SEQ_LEN, MODEL_NAME)\n",
    "\n",
    "\n",
    "# Create the labels\n",
    "y_train = labels_train\n",
    "y_val = labels_val\n",
    "y_test = labels_test\n",
    "\n",
    "\n",
    "print(\"\\nTrain data (tokenized) shape: \", len(X_train[0]))\n",
    "print(\"Val data (tokenized) shape: \", len(X_val[0]))\n",
    "print(\"Test data (tokenized) shape: \", len(X_test[0]))"
   ]
  },
  {
   "cell_type": "markdown",
   "metadata": {},
   "source": [
    "## Functions for Model Creation, Fine-Tuning, and Weight Loading\n",
    "\n",
    "\n",
    "The `create_model` function **creates a new model** by instantiating a BERT model from a pre-trained version. Specifically, it uses the `from_pretrained` method of the `Model` class (which refers to a BERT model) to load the pre-trained weights and architecture, but it sets up a new TensorFlow Keras model that includes additional layers for specific tasks, such as pooling and output layers. \n",
    "\n",
    "So while it does incorporate a pre-trained BERT model, it constructs a new model that can be fine-tuned for a particular task, such as text clssification."
   ]
  },
  {
   "cell_type": "code",
   "execution_count": 11,
   "metadata": {},
   "outputs": [],
   "source": [
    "def create_model(MAX_SEQ_LEN, Model, pretrained_model_name):\n",
    "    # Define the input for token IDs (the sequence of tokens for each sentence) with a fixed length of MAX_SEQ_LEN.\n",
    "    # This will hold the integer IDs for tokens in each input sentence.\n",
    "    input_ids = tf.keras.layers.Input(shape=(MAX_SEQ_LEN,), dtype=tf.int32, name='input_ids')\n",
    "    \n",
    "    # Define the input for the attention mask, which specifies which tokens are actual words (1) vs. padding tokens (0).\n",
    "    # This helps the model focus only on actual words during processing.\n",
    "    input_mask = tf.keras.layers.Input(shape=(MAX_SEQ_LEN,), dtype=tf.int32, name='attention_mask')\n",
    "    \n",
    "    # Group the two inputs, input_ids and input_mask, into a list as required by the BERT model's input format.\n",
    "    inputs = [input_ids, input_mask]\n",
    "    \n",
    "    # Load the pretrained BERT model specified by the 'pretrained_model_name' argument.\n",
    "    # 'Model' is typically the class (e.g., TFBertModel) that you use to load BERT in TensorFlow.\n",
    "    bert = Model.from_pretrained(pretrained_model_name)\n",
    "    \n",
    "    # Pass the inputs (input_ids and attention_mask) through the BERT model.\n",
    "    # The output contains several elements, and we will use 'last_hidden_state', which holds the hidden states\n",
    "    # for each token in the input sequence.\n",
    "    bert_outputs = bert(inputs)\n",
    "    last_hidden_states = bert_outputs.last_hidden_state\n",
    "    \n",
    "    # Apply Global Average Pooling to the last hidden states across the sequence length.\n",
    "    # This reduces the output of BERT into a single vector by averaging the token representations.\n",
    "    avg = tf.keras.layers.GlobalAveragePooling1D()(last_hidden_states)\n",
    "    \n",
    "    # Add a Dense layer with a sigmoid activation function for binary classification (output values between 0 and 1).\n",
    "    # This output layer will output a single probability value for each input sequence.\n",
    "    output = tf.keras.layers.Dense(1, activation=\"sigmoid\")(avg)\n",
    "    \n",
    "    # Create the final model that takes in input_ids and input_mask as inputs and outputs the probability.\n",
    "    model = tf.keras.Model(inputs=inputs, outputs=output)\n",
    "    \n",
    "    # Print the model's architecture for a summary of layers and parameters.\n",
    "    model.summary()\n",
    "    \n",
    "    # Return the constructed model for training or inference.\n",
    "    return model\n",
    "\n",
    "\n",
    "\n",
    "def fine_tune(model, epochs, batch_size, best_weights_file_name, X_train, X_val, y_train, y_val):\n",
    "    # Set up the optimizer for training. Here, we use the Rectified Adam optimizer (RAdam) from TensorFlow Addons.\n",
    "    # RAdam adapts the learning rate based on the training data, with an initial learning rate of 3e-5.\n",
    "    opt = tfa.optimizers.RectifiedAdam(learning_rate=3e-5)\n",
    "    \n",
    "    # Define the loss function as Binary Crossentropy, which is suitable for binary classification tasks.\n",
    "    # This measures how well the model’s predicted probabilities match the true labels.\n",
    "    loss = tf.keras.losses.BinaryCrossentropy(from_logits=False)\n",
    "    \n",
    "    # Specify a file to save the best model weights during training.\n",
    "    best_weights_file = best_weights_file_name\n",
    "    \n",
    "    # Set up a ModelCheckpoint callback to save the model's best weights based on the validation AUC metric.\n",
    "    # This will save only the weights (not the entire model) each time the validation AUC improves.\n",
    "    # Mode 'max' ensures that higher AUC values are better.\n",
    "    m_ckpt = tf.keras.callbacks.ModelCheckpoint(\n",
    "        best_weights_file, monitor='val_auc', mode='max', verbose=1,\n",
    "        save_weights_only=True, save_best_only=True\n",
    "    )\n",
    "    \n",
    "    # Compile the model with the defined loss function, optimizer, and evaluation metrics.\n",
    "    # The metrics include:\n",
    "    # - AUC (Area Under the ROC Curve): Useful for assessing the performance of binary classifiers.\n",
    "    #    AUC is a threshold-independent metric, meaning it reflects the model’s ability to distinguish \n",
    "    #    between classes across different decision boundaries. In an imbalanced dataset, AUC is particularly \n",
    "    #    valuable because it provides insight into the model’s performance beyond simple accuracy, which can be misleading.\n",
    "    #    This metric will be more sensitive to the minority class, which accuracy alone might not fully capture.\n",
    "    # - Binary Accuracy: Calculates how often predictions match binary labels.\n",
    "    #                    For binary classification tasks, use BinaryAccuracy rather than accuracy \n",
    "    #                    to get a clearer picture of how well your model is performing.\n",
    "    model.compile(\n",
    "        loss=loss, \n",
    "        optimizer=opt, \n",
    "        metrics=[tf.keras.metrics.AUC(curve=\"ROC\"),\n",
    "                 tf.keras.metrics.BinaryAccuracy()]\n",
    "    )\n",
    "    \n",
    "    # Train (fine-tune) the model on the training data, and validate it on the validation data.\n",
    "    # Parameters:\n",
    "    # - epochs: Number of times to iterate over the entire training dataset.\n",
    "    # - batch_size: Number of samples to process before updating model weights.\n",
    "    # - validation_data: Data to evaluate model performance after each epoch.\n",
    "    # - callbacks: The ModelCheckpoint callback to save the best weights.\n",
    "    # - verbose: Display progress (1 for showing progress, 0 for silent).\n",
    "    history = model.fit(\n",
    "        X_train, y_train,\n",
    "        validation_data=(X_val, y_val),\n",
    "        epochs=epochs,\n",
    "        batch_size=batch_size,\n",
    "        callbacks=[m_ckpt],\n",
    "        verbose=1\n",
    "    )\n",
    "    \n",
    "    # Return the history of the training process, which includes metrics over each epoch for analysis.\n",
    "    return history\n",
    "\n",
    "\n",
    "\n",
    "def load_model(MAX_SEQ_LEN, Model, pretrained_model_name, best_weights_file_name):\n",
    "    # Create a model using the specified maximum sequence length, model class, and pre-trained model name.\n",
    "    # This initializes the architecture of the model but does not yet load any weights.\n",
    "    model = create_model(MAX_SEQ_LEN, Model, pretrained_model_name)\n",
    "    \n",
    "    # Define the loss function to be used during evaluation. \n",
    "    # Binary Cross entropy is chosen here as we are dealing with a binary classification problem.\n",
    "    loss = tf.keras.losses.BinaryCrossentropy(from_logits=False)\n",
    "    \n",
    "    # Load the previously saved weights from the specified file.\n",
    "    # This retrieves the best weights determined during the fine-tuning process.\n",
    "    model.load_weights(best_weights_file_name)\n",
    "    \n",
    "    # Set up the optimizer for the model, using the Rectified Adam optimizer (RAdam) with a learning rate of 3e-5.\n",
    "    # This optimizer helps in stabilizing the training process and improving convergence.\n",
    "    opt = tfa.optimizers.RectifiedAdam(learning_rate=3e-5)\n",
    "    \n",
    "    # Compile the model with the defined loss function, optimizer, and evaluation metrics.\n",
    "    # The metrics include:\n",
    "    # - AUC (Area Under the ROC Curve): Useful for assessing the performance of binary classifiers.\n",
    "    #    AUC is a threshold-independent metric, meaning it reflects the model’s ability to distinguish \n",
    "    #    between classes across different decision boundaries. In an imbalanced dataset, AUC is particularly \n",
    "    #    valuable because it provides insight into the model’s performance beyond simple accuracy, which can be misleading.\n",
    "    #    This metric will be more sensitive to the minority class, which accuracy alone might not fully capture.\n",
    "    # - Binary Accuracy: Calculates how often predictions match binary labels.\n",
    "    #                    For binary classification tasks, use BinaryAccuracy rather than accuracy \n",
    "    #                    to get a clearer picture of how well your model is performing.\n",
    "    model.compile(\n",
    "        loss=loss, \n",
    "        optimizer=opt, \n",
    "        metrics=[tf.keras.metrics.AUC(curve=\"ROC\"),\n",
    "                 tf.keras.metrics.BinaryAccuracy()]\n",
    "    )\n",
    "    \n",
    "    # Return the fully initialized model\n",
    "    return model\n"
   ]
  },
  {
   "cell_type": "markdown",
   "metadata": {},
   "source": [
    "## Model Creation\n",
    "\n",
    "Create a new model using the BERT architecture. We use the 'bert-base-uncased' model, which is a version of BERT that does not distinguish between uppercase and lowercase letters, making it suitable for tasks where case sensitivity is not crucial, such as sentiment analysis and general text classification."
   ]
  },
  {
   "cell_type": "code",
   "execution_count": 12,
   "metadata": {},
   "outputs": [
    {
     "name": "stderr",
     "output_type": "stream",
     "text": [
      "Some weights of the PyTorch model were not used when initializing the TF 2.0 model TFBertModel: ['cls.predictions.transform.dense.bias', 'cls.seq_relationship.weight', 'cls.predictions.transform.LayerNorm.bias', 'cls.predictions.transform.LayerNorm.weight', 'cls.seq_relationship.bias', 'cls.predictions.transform.dense.weight', 'cls.predictions.bias']\n",
      "- This IS expected if you are initializing TFBertModel from a PyTorch model trained on another task or with another architecture (e.g. initializing a TFBertForSequenceClassification model from a BertForPreTraining model).\n",
      "- This IS NOT expected if you are initializing TFBertModel from a PyTorch model that you expect to be exactly identical (e.g. initializing a TFBertForSequenceClassification model from a BertForSequenceClassification model).\n",
      "All the weights of TFBertModel were initialized from the PyTorch model.\n",
      "If your task is similar to the task the model of the checkpoint was trained on, you can already use TFBertModel for predictions without further training.\n"
     ]
    },
    {
     "name": "stdout",
     "output_type": "stream",
     "text": [
      "Model: \"model\"\n",
      "__________________________________________________________________________________________________\n",
      " Layer (type)                   Output Shape         Param #     Connected to                     \n",
      "==================================================================================================\n",
      " input_ids (InputLayer)         [(None, 238)]        0           []                               \n",
      "                                                                                                  \n",
      " attention_mask (InputLayer)    [(None, 238)]        0           []                               \n",
      "                                                                                                  \n",
      " tf_bert_model (TFBertModel)    TFBaseModelOutputWi  109482240   ['input_ids[0][0]',              \n",
      "                                thPoolingAndCrossAt               'attention_mask[0][0]']         \n",
      "                                tentions(last_hidde                                               \n",
      "                                n_state=(None, 238,                                               \n",
      "                                 768),                                                            \n",
      "                                 pooler_output=(Non                                               \n",
      "                                e, 768),                                                          \n",
      "                                 past_key_values=No                                               \n",
      "                                ne, hidden_states=N                                               \n",
      "                                one, attentions=Non                                               \n",
      "                                e, cross_attentions                                               \n",
      "                                =None)                                                            \n",
      "                                                                                                  \n",
      " global_average_pooling1d (Glob  (None, 768)         0           ['tf_bert_model[0][0]']          \n",
      " alAveragePooling1D)                                                                              \n",
      "                                                                                                  \n",
      " dense (Dense)                  (None, 1)            769         ['global_average_pooling1d[0][0]'\n",
      "                                                                 ]                                \n",
      "                                                                                                  \n",
      "==================================================================================================\n",
      "Total params: 109,483,009\n",
      "Trainable params: 109,483,009\n",
      "Non-trainable params: 0\n",
      "__________________________________________________________________________________________________\n"
     ]
    }
   ],
   "source": [
    "# Create the classification model\n",
    "model = create_model(MAX_SEQ_LEN, TFBertModel, 'bert-base-uncased')"
   ]
  },
  {
   "cell_type": "markdown",
   "metadata": {},
   "source": [
    "## Fine-tune the Model"
   ]
  },
  {
   "cell_type": "code",
   "execution_count": 13,
   "metadata": {},
   "outputs": [
    {
     "name": "stdout",
     "output_type": "stream",
     "text": [
      "Epoch 1/2\n"
     ]
    },
    {
     "name": "stderr",
     "output_type": "stream",
     "text": [
      "2024-10-28 21:14:50.302353: W tensorflow/tsl/platform/profile_utils/cpu_utils.cc:128] Failed to get CPU frequency: 0 Hz\n"
     ]
    },
    {
     "name": "stdout",
     "output_type": "stream",
     "text": [
      "WARNING:tensorflow:Gradients do not exist for variables ['tf_bert_model/bert/pooler/dense/kernel:0', 'tf_bert_model/bert/pooler/dense/bias:0'] when minimizing the loss. If you're using `model.compile()`, did you forget to provide a `loss` argument?\n",
      "WARNING:tensorflow:Gradients do not exist for variables ['tf_bert_model/bert/pooler/dense/kernel:0', 'tf_bert_model/bert/pooler/dense/bias:0'] when minimizing the loss. If you're using `model.compile()`, did you forget to provide a `loss` argument?\n",
      "230/230 [==============================] - ETA: 0s - loss: 0.2270 - auc: 0.9483 - binary_accuracy: 0.8977\n",
      "Epoch 1: val_auc improved from -inf to 0.99882, saving model to weights_BERT_email.h5\n",
      "230/230 [==============================] - 875s 4s/step - loss: 0.2270 - auc: 0.9483 - binary_accuracy: 0.8977 - val_loss: 0.0383 - val_auc: 0.9988 - val_binary_accuracy: 0.9860\n",
      "Epoch 2/2\n",
      "230/230 [==============================] - ETA: 0s - loss: 0.0315 - auc: 0.9991 - binary_accuracy: 0.9894\n",
      "Epoch 2: val_auc improved from 0.99882 to 0.99956, saving model to weights_BERT_email.h5\n",
      "230/230 [==============================] - 898s 4s/step - loss: 0.0315 - auc: 0.9991 - binary_accuracy: 0.9894 - val_loss: 0.0238 - val_auc: 0.9996 - val_binary_accuracy: 0.9930\n",
      "CPU times: user 4h 52min 24s, sys: 1h 4min 14s, total: 5h 56min 39s\n",
      "Wall time: 29min 33s\n"
     ]
    }
   ],
   "source": [
    "%%time\n",
    "\n",
    "epochs = 2\n",
    "batch_size = 16\n",
    "best_weights_file_name = \"weights_BERT_email.h5\"\n",
    "\n",
    "history = fine_tune(model, epochs, batch_size, best_weights_file_name, X_train, X_val, y_train, y_val)"
   ]
  },
  {
   "cell_type": "code",
   "execution_count": 18,
   "metadata": {},
   "outputs": [
    {
     "name": "stdout",
     "output_type": "stream",
     "text": [
      "Keys in history:  dict_keys(['loss', 'auc', 'binary_accuracy', 'val_loss', 'val_auc', 'val_binary_accuracy'])\n"
     ]
    }
   ],
   "source": [
    "# Print the keys of the history\n",
    "print(\"Keys in history: \", history.history.keys())"
   ]
  },
  {
   "cell_type": "markdown",
   "metadata": {},
   "source": [
    "## Learning Curves (Binary Accuracy & Loss)"
   ]
  },
  {
   "cell_type": "code",
   "execution_count": 14,
   "metadata": {},
   "outputs": [],
   "source": [
    "def plot_learning_curves(history, numOfEpochs, title):\n",
    "    plt.figure(figsize=(18,6))\n",
    "\n",
    "    plt.subplot(121)\n",
    "    plt.plot(range(1,numOfEpochs+1),history.history['val_binary_accuracy'],label='validation', color=\"r\")\n",
    "    plt.plot(range(1,numOfEpochs+1),history.history['binary_accuracy'],label='training', color=\"b\")\n",
    "    plt.legend(loc=0, fontsize=16)\n",
    "    plt.xlabel('Epoch', fontsize=16)\n",
    "    plt.ylabel('Accuracy', fontsize=16)\n",
    "    plt.xlim([1,numOfEpochs])\n",
    "    #plt.ylim([0, 1])\n",
    "    plt.grid(True)\n",
    "    plt.title(\"Model Accuracy: \"+title)\n",
    "    \n",
    "    plt.subplot(122)\n",
    "    plt.plot(range(1,numOfEpochs+1),history.history['val_loss'],label='validation', color=\"r\")\n",
    "    plt.plot(range(1,numOfEpochs+1),history.history['loss'],label='training', color=\"b\")\n",
    "    plt.legend(loc=0, fontsize=16)\n",
    "    plt.xlabel('Epoch', fontsize=16)\n",
    "    plt.ylabel('Loss', fontsize=16)\n",
    "    plt.xlim([1,numOfEpochs])\n",
    "    #plt.ylim([0, 1])\n",
    "    plt.grid(True)\n",
    "    plt.title(\"Model Loss: \"+title)\n",
    "    \n",
    "    plt.show() "
   ]
  },
  {
   "cell_type": "code",
   "execution_count": 15,
   "metadata": {},
   "outputs": [
    {
     "name": "stdout",
     "output_type": "stream",
     "text": [
      "Epochs:  2\n"
     ]
    },
    {
     "data": {
      "image/png": "[encoded data removed]",
      "text/plain": [
       "<Figure size 1800x600 with 2 Axes>"
      ]
     },
     "metadata": {},
     "output_type": "display_data"
    }
   ],
   "source": [
    "numOfEpochs = len(history.history['loss'])\n",
    "print(\"Epochs: \", numOfEpochs)\n",
    "\n",
    "plot_learning_curves(history, numOfEpochs, \"BERT-Email\")"
   ]
  },
  {
   "cell_type": "markdown",
   "metadata": {},
   "source": [
    "## Evaluate the Model"
   ]
  },
  {
   "cell_type": "code",
   "execution_count": 16,
   "metadata": {},
   "outputs": [
    {
     "name": "stdout",
     "output_type": "stream",
     "text": [
      "Epochs:  2\n",
      "\n",
      "Train Accuracy: 0.989\n",
      "Train Loss: 0.031\n",
      "\n",
      "Validation Accuracy: 0.993\n",
      "Validation Loss: 0.024\n",
      "29/29 [==============================] - 63s 2s/step\n",
      "\n",
      "Shape of the predictions array:  (917, 1)\n",
      "Data type of the predictions array:  float32\n",
      "(917, 1)\n",
      "(917,)\n",
      "\n",
      "Test Accuracy: 0.996\n",
      "\n",
      "Test Confusion Matrix:\n",
      "[[705   2]\n",
      " [  2 208]]\n",
      "\n",
      "Test Precision = 0.990476\n",
      "Test Recall = 0.990476\n",
      "Test F1 Score = 0.990476\n",
      "\n",
      "Test Classification Report:\n",
      "              precision    recall  f1-score   support\n",
      "\n",
      "           0       1.00      1.00      1.00       707\n",
      "           1       0.99      0.99      0.99       210\n",
      "\n",
      "    accuracy                           1.00       917\n",
      "   macro avg       0.99      0.99      0.99       917\n",
      "weighted avg       1.00      1.00      1.00       917\n",
      "\n",
      "CPU times: user 10min 27s, sys: 1min 18s, total: 11min 46s\n",
      "Wall time: 1min 2s\n"
     ]
    }
   ],
   "source": [
    "%%time\n",
    "\n",
    "numOfEpochs = len(history.history['loss'])\n",
    "print(\"Epochs: \", numOfEpochs)\n",
    "\n",
    "train_acc = history.history['binary_accuracy']\n",
    "val_acc = history.history['val_binary_accuracy']\n",
    "\n",
    "\n",
    "train_loss = history.history['loss']\n",
    "val_loss = history.history['val_loss']\n",
    "\n",
    "\n",
    "# Read the last value from the list that represents final epoch statistics\n",
    "print(\"\\nTrain Accuracy: {:.3f}\".format(train_acc[-1]))\n",
    "print(\"Train Loss: {:.3f}\".format(train_loss[-1]))\n",
    "\n",
    "print(\"\\nValidation Accuracy: {:.3f}\".format(val_acc[-1]))\n",
    "print(\"Validation Loss: {:.3f}\".format(val_loss[-1]))\n",
    "\n",
    "\n",
    "'''\n",
    "Evaluate the model on the test data\n",
    "'''\n",
    "\n",
    "# Predict probabilities for the test data\n",
    "y_test_predicted_proba = model.predict(X_test)\n",
    "print(\"\\nShape of the predictions array: \", y_test_predicted_proba.shape)\n",
    "print(\"Data type of the predictions array: \", y_test_predicted_proba.dtype)\n",
    "\n",
    "\n",
    "# Create an array to store predicted binary labels\n",
    "y_test_predicted = y_test_predicted_proba\n",
    "\n",
    "# Convert the predicted probabilities into binary labels\n",
    "for i in range(len(y_test_predicted_proba)):\n",
    "    if(y_test_predicted_proba[i] >= 0.5):\n",
    "        y_test_predicted[i] = 1\n",
    "    else:\n",
    "        y_test_predicted[i] = 0\n",
    "\n",
    "        \n",
    "print(y_test_predicted.shape)        \n",
    "y_test_predicted = y_test_predicted.ravel()\n",
    "print(y_test_predicted.shape)  \n",
    "\n",
    "test_accuracy = np.mean(y_test_predicted == y_test)\n",
    "print(\"\\nTest Accuracy: {:.3f}\".format(test_accuracy))\n",
    "\n",
    "\n",
    "print(\"\\nTest Confusion Matrix:\")\n",
    "print(confusion_matrix(y_test, y_test_predicted))\n",
    "\n",
    "precision_test = precision_score(y_test, y_test_predicted) \n",
    "print(\"\\nTest Precision = %f\" % precision_test)\n",
    "\n",
    "recall_test = recall_score(y_test, y_test_predicted)\n",
    "print(\"Test Recall = %f\" % recall_test)\n",
    "\n",
    "\n",
    "f1_test = f1_score(y_test, y_test_predicted)\n",
    "print(\"Test F1 Score = %f\" % f1_test)\n",
    "\n",
    "print(\"\\nTest Classification Report:\")\n",
    "print(classification_report(y_test, y_test_predicted))"
   ]
  },
  {
   "cell_type": "markdown",
   "metadata": {},
   "source": [
    "## Evaluate the Model on Test Data Using the Saved Weights"
   ]
  },
  {
   "cell_type": "code",
   "execution_count": 17,
   "metadata": {},
   "outputs": [
    {
     "name": "stdout",
     "output_type": "stream",
     "text": [
      "Loading the saved model weights ...\n"
     ]
    },
    {
     "name": "stderr",
     "output_type": "stream",
     "text": [
      "Some weights of the PyTorch model were not used when initializing the TF 2.0 model TFBertModel: ['cls.predictions.transform.dense.bias', 'cls.seq_relationship.weight', 'cls.predictions.transform.LayerNorm.bias', 'cls.predictions.transform.LayerNorm.weight', 'cls.seq_relationship.bias', 'cls.predictions.transform.dense.weight', 'cls.predictions.bias']\n",
      "- This IS expected if you are initializing TFBertModel from a PyTorch model trained on another task or with another architecture (e.g. initializing a TFBertForSequenceClassification model from a BertForPreTraining model).\n",
      "- This IS NOT expected if you are initializing TFBertModel from a PyTorch model that you expect to be exactly identical (e.g. initializing a TFBertForSequenceClassification model from a BertForSequenceClassification model).\n",
      "All the weights of TFBertModel were initialized from the PyTorch model.\n",
      "If your task is similar to the task the model of the checkpoint was trained on, you can already use TFBertModel for predictions without further training.\n"
     ]
    },
    {
     "name": "stdout",
     "output_type": "stream",
     "text": [
      "Model: \"model_1\"\n",
      "__________________________________________________________________________________________________\n",
      " Layer (type)                   Output Shape         Param #     Connected to                     \n",
      "==================================================================================================\n",
      " input_ids (InputLayer)         [(None, 238)]        0           []                               \n",
      "                                                                                                  \n",
      " attention_mask (InputLayer)    [(None, 238)]        0           []                               \n",
      "                                                                                                  \n",
      " tf_bert_model_1 (TFBertModel)  TFBaseModelOutputWi  109482240   ['input_ids[0][0]',              \n",
      "                                thPoolingAndCrossAt               'attention_mask[0][0]']         \n",
      "                                tentions(last_hidde                                               \n",
      "                                n_state=(None, 238,                                               \n",
      "                                 768),                                                            \n",
      "                                 pooler_output=(Non                                               \n",
      "                                e, 768),                                                          \n",
      "                                 past_key_values=No                                               \n",
      "                                ne, hidden_states=N                                               \n",
      "                                one, attentions=Non                                               \n",
      "                                e, cross_attentions                                               \n",
      "                                =None)                                                            \n",
      "                                                                                                  \n",
      " global_average_pooling1d_1 (Gl  (None, 768)         0           ['tf_bert_model_1[0][0]']        \n",
      " obalAveragePooling1D)                                                                            \n",
      "                                                                                                  \n",
      " dense_1 (Dense)                (None, 1)            769         ['global_average_pooling1d_1[0][0\n",
      "                                                                 ]']                              \n",
      "                                                                                                  \n",
      "==================================================================================================\n",
      "Total params: 109,483,009\n",
      "Trainable params: 109,483,009\n",
      "Non-trainable params: 0\n",
      "__________________________________________________________________________________________________\n",
      "29/29 [==============================] - 63s 2s/step\n",
      "\n",
      "Shape of the predictions array:  (917, 1)\n",
      "Data type of the predictions array:  float32\n",
      "(917, 1)\n",
      "(917,)\n",
      "\n",
      "Test Accuracy: 0.996\n",
      "\n",
      "Test Confusion Matrix:\n",
      "[[705   2]\n",
      " [  2 208]]\n",
      "\n",
      "Test Precision = 0.990476\n",
      "Test Recall = 0.990476\n",
      "Test F1 Score = 0.990476\n",
      "\n",
      "Test Classification Report:\n",
      "              precision    recall  f1-score   support\n",
      "\n",
      "           0       1.00      1.00      1.00       707\n",
      "           1       0.99      0.99      0.99       210\n",
      "\n",
      "    accuracy                           1.00       917\n",
      "   macro avg       0.99      0.99      0.99       917\n",
      "weighted avg       1.00      1.00      1.00       917\n",
      "\n"
     ]
    }
   ],
   "source": [
    "# Specify the filename for saving the best model weights during training\n",
    "best_weights_file_name = \"weights_BERT_email.h5\"\n",
    "\n",
    "# Load the pre-trained BERT model along with the best weights saved during training for evaluation\n",
    "print(\"Loading the saved model weights ...\")\n",
    "model_saved = load_model(MAX_SEQ_LEN, TFBertModel, 'bert-base-uncased', best_weights_file_name)\n",
    "\n",
    "\n",
    "\n",
    "'''\n",
    "Evaluate the model on the test data\n",
    "'''\n",
    "\n",
    "# Predict probabilities for the test data\n",
    "y_test_predicted_proba = model_saved.predict(X_test)\n",
    "print(\"\\nShape of the predictions array: \", y_test_predicted_proba.shape)\n",
    "print(\"Data type of the predictions array: \", y_test_predicted_proba.dtype)\n",
    "\n",
    "\n",
    "# Create an array to store predicted binary labels\n",
    "y_test_predicted = y_test_predicted_proba\n",
    "\n",
    "# Convert the predicted probabilities into binary labels\n",
    "for i in range(len(y_test_predicted_proba)):\n",
    "    if(y_test_predicted_proba[i] >= 0.5):\n",
    "        y_test_predicted[i] = 1\n",
    "    else:\n",
    "        y_test_predicted[i] = 0\n",
    "\n",
    "        \n",
    "print(y_test_predicted.shape)        \n",
    "y_test_predicted = y_test_predicted.ravel()\n",
    "print(y_test_predicted.shape)  \n",
    "\n",
    "test_accuracy = np.mean(y_test_predicted == y_test)\n",
    "print(\"\\nTest Accuracy: {:.3f}\".format(test_accuracy))\n",
    "\n",
    "\n",
    "print(\"\\nTest Confusion Matrix:\")\n",
    "print(confusion_matrix(y_test, y_test_predicted))\n",
    "\n",
    "precision_test = precision_score(y_test, y_test_predicted) \n",
    "print(\"\\nTest Precision = %f\" % precision_test)\n",
    "\n",
    "recall_test = recall_score(y_test, y_test_predicted)\n",
    "print(\"Test Recall = %f\" % recall_test)\n",
    "\n",
    "\n",
    "f1_test = f1_score(y_test, y_test_predicted)\n",
    "print(\"Test F1 Score = %f\" % f1_test)\n",
    "\n",
    "print(\"\\nTest Classification Report:\")\n",
    "print(classification_report(y_test, y_test_predicted))"
   ]
  }
 ],
 "metadata": {
  "kernelspec": {
   "display_name": "Python 3 (ipykernel)",
   "language": "python",
   "name": "python3"
  },
  "language_info": {
   "codemirror_mode": {
    "name": "ipython",
    "version": 3
   },
   "file_extension": ".py",
   "mimetype": "text/x-python",
   "name": "python",
   "nbconvert_exporter": "python",
   "pygments_lexer": "ipython3",
   "version": "3.11.5"
  }
 },
 "nbformat": 4,
 "nbformat_minor": 4
}
